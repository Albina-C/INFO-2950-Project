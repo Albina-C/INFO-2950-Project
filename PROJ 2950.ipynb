{
 "cells": [
  {
   "cell_type": "code",
   "execution_count": 227,
   "metadata": {},
   "outputs": [],
   "source": [
    "import requests #package for http requests\n",
    "import bs4 # package for html parsing\n",
    "import numpy as np\n",
    "import matplotlib.pyplot as plt\n",
    "import pandas as pd"
   ]
  },
  {
   "cell_type": "markdown",
   "metadata": {},
   "source": [
    "## Research Question\n",
    "Is there a relationship in how happy a country is and the music the people of this country listen to?"
   ]
  },
  {
   "cell_type": "markdown",
   "metadata": {},
   "source": [
    "### Introduction\n",
    "Attempting to understand what makes a country \"happy\" is often attributable to freedom, social support, life expectancy, health, among others; however, the music the people of said country listen to is often not one of these factors given its weak relationship and versatility across the world. Although our research question does not attempt to attribute the type of music a country listens to to its happiness index score (it would be difficult to establish given reverse causality), we are more interested in observing what trends are apparent in some of the happiest and less happiest countries with respect to the music they listen to. \n",
    "\n",
    "We will be using the happiness rank and happiness score for the year 2017, provided by a dataset on Kaggle by Sustainable Development Solutions Network. As for the music, we will be using two distinct spotify datasets for the year 2017 from Kaggle. We will be using features of one of these datasets, such as genre and danceability score, in order to draw comparisons with our happiness scores. "
   ]
  },
  {
   "cell_type": "code",
   "execution_count": 228,
   "metadata": {},
   "outputs": [],
   "source": [
    "happy2015=pd.read_csv(\"2015.csv\")\n",
    "happy2016=pd.read_csv(\"2016.csv\")\n",
    "happy2017=pd.read_csv(\"2017.csv\")\n",
    "happy2018=pd.read_csv(\"2018.csv\")\n",
    "happy2019=pd.read_csv(\"2019.csv\")"
   ]
  },
  {
   "cell_type": "code",
   "execution_count": 229,
   "metadata": {
    "scrolled": true
   },
   "outputs": [],
   "source": [
    "#allspotifydata=pd.read_csv(\"data 2.csv\")\n",
    "#countries=pd.unique(allspotifydata['Region'])\n",
    "\n",
    "#allcountries=[]\n",
    "#for country in countries:\n",
    "    #allcountries.append(allspotifydata[allspotifydata['Region']==country])\n",
    "\n",
    "#count=1\n",
    "#for df in allcountries:\n",
    "    #name='country'+str(count)+'.csv'\n",
    "    #df.to_csv(r'C:\\Users\\Eva\\Downloads\\country'+str(count)+'.csv')\n",
    "    #count=count+1"
   ]
  },
  {
   "cell_type": "code",
   "execution_count": 230,
   "metadata": {},
   "outputs": [],
   "source": [
    "argentina=pd.read_csv(\"argentina.csv\")\n",
    "australia=pd.read_csv(\"australia.csv\")\n",
    "austria=pd.read_csv(\"austria.csv\")\n",
    "belgium=pd.read_csv(\"belgium.csv\")\n",
    "bolivia=pd.read_csv(\"bolivia.csv\")\n",
    "brazil=pd.read_csv(\"brazil.csv\")\n",
    "canada=pd.read_csv(\"canada.csv\")\n",
    "chile=pd.read_csv(\"chile.csv\")\n",
    "colombia=pd.read_csv(\"colombia.csv\")\n",
    "costarica=pd.read_csv(\"costarica.csv\")\n",
    "czechrepublic=pd.read_csv(\"czechrepublic.csv\")\n",
    "denmark=pd.read_csv(\"denmark.csv\")\n",
    "dominicanrepublic=pd.read_csv(\"dominicanrepublic.csv\")\n",
    "ecuador=pd.read_csv(\"ecuador.csv\")\n",
    "elsalvador=pd.read_csv('elsalvador.csv')\n",
    "estonia=pd.read_csv('estonia.csv')\n",
    "finland=pd.read_csv(\"finland.csv\")\n",
    "france=pd.read_csv(\"france.csv\")\n",
    "germany=pd.read_csv(\"germany.csv\")\n",
    "Global=pd.read_csv('global.csv')\n",
    "greece=pd.read_csv('greece.csv')\n",
    "guatemala=pd.read_csv(\"guatemala.csv\")\n",
    "honduras=pd.read_csv(\"honduras.csv\")\n",
    "hongkong=pd.read_csv(\"hongkong.csv\")\n",
    "hungary=pd.read_csv(\"hungary.csv\")\n",
    "iceland=pd.read_csv(\"iceland.csv\")\n",
    "indonesia=pd.read_csv(\"indonesia.csv\")\n",
    "ireland=pd.read_csv(\"ireland.csv\")\n",
    "italy=pd.read_csv(\"italy.csv\")\n",
    "japan=pd.read_csv(\"japan.csv\")\n",
    "latvia=pd.read_csv(\"latvia.csv\")\n",
    "lithuania=pd.read_csv(\"lithuania.csv\")\n",
    "luxembourg=pd.read_csv(\"luxembourg.csv\")\n",
    "malaysia=pd.read_csv(\"malaysia.csv\")\n",
    "mexico=pd.read_csv(\"mexico.csv\")\n",
    "netherlands=pd.read_csv(\"netherlands.csv\")\n",
    "newzealand=pd.read_csv(\"newzealand.csv\")\n",
    "norway=pd.read_csv(\"norway.csv\")\n",
    "panama=pd.read_csv(\"panama.csv\")\n",
    "paraguay=pd.read_csv(\"paraguay.csv\")\n",
    "peru=pd.read_csv(\"peru.csv\")\n",
    "philippines=pd.read_csv(\"philippines.csv\")\n",
    "poland=pd.read_csv(\"poland.csv\")\n",
    "portugal=pd.read_csv(\"portugal.csv\")\n",
    "singapore=pd.read_csv(\"singapore.csv\")\n",
    "slovakia=pd.read_csv(\"slovakia.csv\")\n",
    "spain=pd.read_csv(\"spain.csv\")\n",
    "sweden=pd.read_csv(\"sweden.csv\")\n",
    "switzerland=pd.read_csv(\"switzerland.csv\")\n",
    "taiwan=pd.read_csv(\"taiwan.csv\")\n",
    "turkey=pd.read_csv(\"turkey.csv\")\n",
    "unitedkingdom=pd.read_csv(\"unitedkingdom.csv\")\n",
    "unitedstates=pd.read_csv(\"unitedstates.csv\")\n",
    "uruguay=pd.read_csv(\"uruguay.csv\")"
   ]
  },
  {
   "cell_type": "code",
   "execution_count": 231,
   "metadata": {},
   "outputs": [
    {
     "name": "stdout",
     "output_type": "stream",
     "text": [
      "These are the spotify datsets we should use: ['norway', 'denmark', 'iceland', 'switzerland', 'finland', 'netherlands', 'canada', 'newzealand', 'sweden', 'australia', 'costarica', 'austria', 'unitedstates', 'ireland', 'germany', 'belgium', 'luxembourg', 'unitedkingdom', 'chile', 'brazil', 'czechrepublic', 'argentina', 'mexico', 'singapore', 'uruguay', 'guatemala', 'panama', 'france', 'spain', 'colombia', 'slovakia', 'malaysia', 'ecuador', 'elsalvador', 'poland', 'italy', 'japan', 'lithuania', 'latvia', 'bolivia', 'peru', 'estonia', 'turkey', 'paraguay', 'philippines', 'hungary', 'indonesia', 'dominicanrepublic', 'greece', 'portugal', 'honduras', 'Taiwan']\n",
      "                     Country  Happiness.Rank  Happiness.Score\n",
      "0                     Norway             1.0            7.537\n",
      "1                    Denmark             2.0            7.522\n",
      "2                    Iceland             3.0            7.504\n",
      "3                Switzerland             4.0            7.494\n",
      "4                    Finland             5.0            7.469\n",
      "5                Netherlands             6.0            7.377\n",
      "6                     Canada             7.0            7.316\n",
      "7                New Zealand             8.0            7.314\n",
      "8                     Sweden             9.0            7.284\n",
      "9                  Australia            10.0            7.284\n",
      "10                Costa Rica            12.0            7.079\n",
      "11                   Austria            13.0            7.006\n",
      "12             United States            14.0            6.993\n",
      "13                   Ireland            15.0            6.977\n",
      "14                   Germany            16.0            6.951\n",
      "15                   Belgium            17.0            6.891\n",
      "16                Luxembourg            18.0            6.863\n",
      "17            United Kingdom            19.0            6.714\n",
      "18                     Chile            20.0            6.652\n",
      "19                    Brazil            22.0            6.635\n",
      "20            Czech Republic            23.0            6.609\n",
      "21                 Argentina            24.0            6.599\n",
      "22                    Mexico            25.0            6.578\n",
      "23                 Singapore            26.0            6.572\n",
      "24                   Uruguay            28.0            6.454\n",
      "25                 Guatemala            29.0            6.454\n",
      "26                    Panama            30.0            6.452\n",
      "27                    France            31.0            6.442\n",
      "28                     Spain            34.0            6.403\n",
      "29                  Colombia            36.0            6.357\n",
      "30                  Slovakia            40.0            6.098\n",
      "31                  Malaysia            42.0            6.084\n",
      "32                   Ecuador            44.0            6.008\n",
      "33               El Salvador            45.0            6.003\n",
      "34                    Poland            46.0            5.973\n",
      "35                     Italy            48.0            5.964\n",
      "36                     Japan            51.0            5.920\n",
      "37                 Lithuania            52.0            5.902\n",
      "38                    Latvia            54.0            5.850\n",
      "39                   Bolivia            58.0            5.823\n",
      "40                      Peru            63.0            5.715\n",
      "41                   Estonia            66.0            5.611\n",
      "42                    Turkey            69.0            5.500\n",
      "43                  Paraguay            70.0            5.493\n",
      "44               Philippines            72.0            5.430\n",
      "45                   Hungary            75.0            5.324\n",
      "46                 Indonesia            81.0            5.262\n",
      "47        Dominican Republic            86.0            5.230\n",
      "48                    Greece            87.0            5.227\n",
      "49                  Portugal            89.0            5.195\n",
      "50                  Honduras            91.0            5.181\n",
      "51  Taiwan Province of China            33.0            6.422\n"
     ]
    }
   ],
   "source": [
    "allspotifycountries=[\"argentina\", \"australia\", \"austria\", \"belgium\", \"brazil\",\"bolivia\", \"canada\", \"chile\", \"colombia\", \"costarica\", \"czechrepublic\",\"denmark\", \"dominicanrepublic\", \"estonia\", \"elsalvador\", \"Global\",\"greece\", \"ecuador\", \"finland\", \"france\", \"germany\", \"guatemala\", \"honduras\", \"hongkong\", \"hungary\", \"iceland\", \"indonesia\", \"ireland\", \"italy\", \"japan\", \"latvia\", \"lithuania\", \"luxembourg\", \"malaysia\", \"mexico\", \"netherlands\", \"newzealand\", \"norway\", \"panama\", \"paraguay\", \"peru\", \"philippines\", \"poland\", \"portugal\", \"singapore\", \"slovakia\", \"spain\", \"sweden\", \"switzerland\", \"taiwan\", \"turkey\", \"unitedkingdom\", \"unitedstates\", \"uruguay\"]\n",
    "\n",
    "#list for countries that are found in both datsets.\n",
    "allcountries=[]\n",
    "for row in range(len(happy2017)):\n",
    "    country=happy2017.loc[row,'Country']\n",
    "    country=country.lower()\n",
    "    country=country.replace(\" \",\"\")\n",
    "    if country in allspotifycountries:\n",
    "        allcountries.append(country)      \n",
    "\n",
    "#Happy Index from 2017 with only 'Country', 'Happiness.Rank', and 'Happiness.Score' columns and only with countries that have their own dataset for spotify daily.        \n",
    "happy=pd.DataFrame({'Country':[],'Happiness.Rank':[],'Happiness.Score':[]})\n",
    "for row in range(len(happy2017)):\n",
    "    country=happy2017.loc[row,'Country']\n",
    "    country=country.lower()\n",
    "    country=country.replace(\" \",\"\")\n",
    "    if country in allcountries:       \n",
    "        newrow={'Country':happy2017.loc[row,'Country'],'Happiness.Rank':happy2017.loc[row,'Happiness.Rank'],'Happiness.Score':happy2017.loc[row,'Happiness.Score']}\n",
    "        happy=happy.append(newrow, ignore_index=True)\n",
    "\n",
    "        \n",
    "#Noticed that Taiwan is referred to as Taiwan Province of China on Happy Index.\n",
    "newrow={'Country':happy2017.loc[32,'Country'],'Happiness.Rank':happy2017.loc[32,'Happiness.Rank'],'Happiness.Score':happy2017.loc[32,'Happiness.Score']}\n",
    "happy=happy.append(newrow, ignore_index=True)\n",
    "\n",
    "#allspotifydata[allspotifydata['Region']==country])\n",
    "allcountries.append(\"Taiwan\")\n",
    "print('These are the spotify datsets we should use: ' + str(allcountries))\n",
    "print(happy)"
   ]
  },
  {
   "cell_type": "code",
   "execution_count": 232,
   "metadata": {},
   "outputs": [],
   "source": [
    "#we're not using this function yet\n",
    "def firstfifty_fake(dataframe):\n",
    "    \"\"\"\n",
    "    This will get the first 50 observations in every 200 observations.\n",
    "    there are 200 observations in 1 day, and there are 365 days.\n",
    "    \"\"\"\n",
    "    acc=0\n",
    "    new=[]\n",
    "    for song in dataframe:\n",
    "        print(song)\n",
    "        new_songs = dataframe.iloc[acc:acc+50]\n",
    "        acc+=200\n",
    "        dataframe =new_songs\n",
    "        new.append(new_songs)\n",
    "        return dataframe"
   ]
  },
  {
   "cell_type": "markdown",
   "metadata": {},
   "source": [
    "#### Brief Explanation of Code Above\n",
    "This is a similar function to the one encountered below; however, this does not quite fulfill our desire goal, so we have just lef it for future use."
   ]
  },
  {
   "cell_type": "code",
   "execution_count": 233,
   "metadata": {},
   "outputs": [],
   "source": [
    "#adding the countries we will work with based on the subset below in allcountries. We will use this to subset the first 50 songs below\n",
    "countries_to_subset = [norway, denmark, iceland, switzerland, finland, \n",
    "                       netherlands, canada, newzealand, sweden, australia, costarica, austria, \n",
    "                       unitedstates, ireland, germany, belgium, luxembourg, unitedkingdom, \n",
    "                       chile, brazil, czechrepublic, argentina, mexico, singapore, uruguay, guatemala,\n",
    "                       panama, france, spain, colombia, slovakia, malaysia, ecuador, elsalvador, poland, \n",
    "                       italy, japan,lithuania, latvia, bolivia, peru, estonia, turkey, paraguay, \n",
    "                       philippines, hungary, indonesia, dominicanrepublic, greece, portugal, honduras, taiwan]\n",
    "\n",
    "countries_to_subset_str = ['norway', 'denmark', 'iceland', 'switzerland', 'finland', 'netherlands', \n",
    "                           'canada', 'newzealand', 'sweden', 'australia', 'costarica', 'austria', \n",
    "                           'unitedstates', 'ireland', 'germany', 'belgium', 'luxembourg', 'unitedkingdom', \n",
    "                           'chile', 'brazil', 'czechrepublic', 'argentina', 'mexico', 'singapore', \n",
    "                           'uruguay', 'guatemala', 'panama', 'france', 'spain', 'colombia', 'slovakia', \n",
    "                           'malaysia', 'ecuador', 'elsalvador', 'poland', 'italy', 'japan', 'lithuania',\n",
    "                           'latvia', 'bolivia', 'peru', 'estonia', 'turkey', 'paraguay', 'philippines', \n",
    "                           'hungary', 'indonesia', 'dominicanrepublic', 'greece', 'portugal', 'honduras', 'Taiwan']"
   ]
  },
  {
   "cell_type": "markdown",
   "metadata": {},
   "source": [
    "#### Brief Explanation of Code Above\n",
    "This part is collecting a list of all the \"usable\" countries' dataframes, as determined by the subset above in which happiness rank is compared to the spotify dataset. It collects these dataframes to then use them in a for-loop below. We are also taking a list of the selfsame countries in string form to work with their names for purposes later in our code"
   ]
  },
  {
   "cell_type": "code",
   "execution_count": 234,
   "metadata": {},
   "outputs": [],
   "source": [
    "#fake_norway = norway.groupby(norway.index//200).head(50)\n",
    "def first_fifty(dataframe):\n",
    "    \"\"\"\n",
    "    This will get the first 50 observations in every 200 observations.\n",
    "    There should only be 200 observations in 1 day, and there are 365 days per country in this data,\n",
    "    which is the purpose of this function.\n",
    "    \n",
    "    Parameter dataframe: this is the countrydatafram which we will work with.\n",
    "    Precondition: a pandas dataframe object\n",
    "    \"\"\"\n",
    "    dataframe = dataframe.groupby(dataframe.index//200).head(50) \n",
    "#     dataframe = subset_data.copy()\n",
    "#     return dataframe"
   ]
  },
  {
   "cell_type": "code",
   "execution_count": 235,
   "metadata": {},
   "outputs": [],
   "source": [
    "for file in countries_to_subset: \n",
    "    first_fifty(file)"
   ]
  },
  {
   "cell_type": "markdown",
   "metadata": {},
   "source": [
    "#### Brief Explanation of Code Above\n",
    "A function meant to subset the first fifty observations of every 200 songs in our dataset as otherwise we would be working with 200 songs x 265 days, which is excessive for our analysis – and memory – purposes."
   ]
  },
  {
   "cell_type": "markdown",
   "metadata": {},
   "source": [
    "#### Brief Explanation of Code Above\n",
    "This part is attaching these new subsetted dataframes to each country's name and adding 1 to it, as to not alter the original dataframe.\n",
    "\n",
    "Ex: The original Norway dataframe contains all the subsetted data of 50 observations for every 200 songs (day) in the now-new dataframe Norway1"
   ]
  },
  {
   "cell_type": "code",
   "execution_count": 236,
   "metadata": {},
   "outputs": [],
   "source": [
    "# taiwan1.head()"
   ]
  },
  {
   "cell_type": "code",
   "execution_count": 237,
   "metadata": {},
   "outputs": [],
   "source": [
    "def not18(dataframe):\n",
    "    dataframe['Date'] = pd.to_datetime(dataframe['Date'])\n",
    "    dataframe = dataframe[dataframe['Date'].dt.year != 2018]\n",
    "    return dataframe"
   ]
  },
  {
   "cell_type": "code",
   "execution_count": 238,
   "metadata": {},
   "outputs": [],
   "source": [
    "# for file in countries_to_subset: \n",
    "#     not18(file)"
   ]
  },
  {
   "cell_type": "markdown",
   "metadata": {},
   "source": [
    "### Brief Explanation of Code Above\n",
    "This is a function meant to exclude all observations, or songs, from 2018 accidentally subsetted in our dataframe. This is consistent with our happiness index from 2017, so we wanted to keep only songs from 2017."
   ]
  },
  {
   "cell_type": "markdown",
   "metadata": {},
   "source": [
    "### Example of the function not18 above\n",
    "This is taking one of our country datasets (Iceland), which – as shown from the result– only takes into account songs from January 2017 until December 2017."
   ]
  },
  {
   "cell_type": "code",
   "execution_count": 239,
   "metadata": {},
   "outputs": [],
   "source": [
    "norway2 = not18(norway)\n",
    "denmark2= not18(denmark)\n",
    "iceland2 = not18(iceland)\n",
    "switzerland2= not18(switzerland)\n",
    "finland2 = not18(finland)\n",
    "netherlands2= not18(netherlands)\n",
    "canada2 = not18(canada)\n",
    "newzealand2= not18(newzealand)\n",
    "sweden2= not18(sweden)\n",
    "australia2= not18(australia)\n",
    "costarica2= not18(costarica)\n",
    "austria2 = not18(austria)\n",
    "unitedstates2= not18(unitedstates)\n",
    "ireland2= not18(ireland)\n",
    "germany2= not18(germany)\n",
    "belgium2= not18(belgium)\n",
    "luxembourg2= not18(luxembourg)\n",
    "unitedkingdom2= not18(unitedkingdom)\n",
    "chile2= not18(chile)\n",
    "brazil2= not18(brazil)\n",
    "czechrepublic2= not18(czechrepublic)\n",
    "argentina2= not18(argentina)\n",
    "mexico2= not18(mexico)\n",
    "singapore2= not18(singapore)\n",
    "uruguay2= not18(uruguay)\n",
    "guatemala2= not18(guatemala)\n",
    "panama2= not18(panama)\n",
    "france2= not18(france)\n",
    "spain2= not18(spain)\n",
    "colombia2= not18(colombia)\n",
    "slovakia2= not18(slovakia)\n",
    "malaysia2= not18(malaysia)\n",
    "ecuador2= not18(ecuador)\n",
    "elsalvador2= not18(elsalvador)\n",
    "poland2= not18(poland)\n",
    "italy2= not18(italy)\n",
    "japan2= not18(japan)\n",
    "lithuania2= not18(lithuania)\n",
    "latvia2= not18(latvia)\n",
    "bolivia2= not18(bolivia)\n",
    "peru2= not18(peru)\n",
    "estonia2= not18(estonia)\n",
    "turkey2= not18(turkey)\n",
    "paraguay2= not18(paraguay)\n",
    "philippines2= not18(philippines)\n",
    "hungary2= not18(hungary)\n",
    "indonesia2= not18(indonesia)\n",
    "dominicanrepublic2= not18(dominicanrepublic)\n",
    "greece2= not18(greece)\n",
    "portugal2= not18(portugal)\n",
    "honduras2= not18(honduras)\n",
    "taiwan2= not18(taiwan)"
   ]
  },
  {
   "cell_type": "code",
   "execution_count": 240,
   "metadata": {},
   "outputs": [
    {
     "data": {
      "text/html": [
       "<div>\n",
       "<style scoped>\n",
       "    .dataframe tbody tr th:only-of-type {\n",
       "        vertical-align: middle;\n",
       "    }\n",
       "\n",
       "    .dataframe tbody tr th {\n",
       "        vertical-align: top;\n",
       "    }\n",
       "\n",
       "    .dataframe thead th {\n",
       "        text-align: right;\n",
       "    }\n",
       "</style>\n",
       "<table border=\"1\" class=\"dataframe\">\n",
       "  <thead>\n",
       "    <tr style=\"text-align: right;\">\n",
       "      <th></th>\n",
       "      <th>Unnamed: 0</th>\n",
       "      <th>Position</th>\n",
       "      <th>Track Name</th>\n",
       "      <th>Artist</th>\n",
       "      <th>Streams</th>\n",
       "      <th>URL</th>\n",
       "      <th>Date</th>\n",
       "      <th>Region</th>\n",
       "    </tr>\n",
       "  </thead>\n",
       "  <tbody>\n",
       "    <tr>\n",
       "      <th>72395</th>\n",
       "      <td>369195</td>\n",
       "      <td>196</td>\n",
       "      <td>Bade naken</td>\n",
       "      <td>Plumbo</td>\n",
       "      <td>12700</td>\n",
       "      <td>https://open.spotify.com/track/4vGVOcH8F0O0TkT...</td>\n",
       "      <td>2017-12-31</td>\n",
       "      <td>no</td>\n",
       "    </tr>\n",
       "    <tr>\n",
       "      <th>72396</th>\n",
       "      <td>369196</td>\n",
       "      <td>197</td>\n",
       "      <td>Happy - From \"Despicable Me 2\"</td>\n",
       "      <td>Pharrell Williams</td>\n",
       "      <td>12627</td>\n",
       "      <td>https://open.spotify.com/track/5b88tNINg4Q4nrR...</td>\n",
       "      <td>2017-12-31</td>\n",
       "      <td>no</td>\n",
       "    </tr>\n",
       "    <tr>\n",
       "      <th>72397</th>\n",
       "      <td>369197</td>\n",
       "      <td>198</td>\n",
       "      <td>Would You Ever</td>\n",
       "      <td>Skrillex</td>\n",
       "      <td>12616</td>\n",
       "      <td>https://open.spotify.com/track/57p8CBvPOxrvyCb...</td>\n",
       "      <td>2017-12-31</td>\n",
       "      <td>no</td>\n",
       "    </tr>\n",
       "    <tr>\n",
       "      <th>72398</th>\n",
       "      <td>369198</td>\n",
       "      <td>199</td>\n",
       "      <td>False Alarm</td>\n",
       "      <td>Matoma</td>\n",
       "      <td>12535</td>\n",
       "      <td>https://open.spotify.com/track/7gZQfdEQpmwAoPH...</td>\n",
       "      <td>2017-12-31</td>\n",
       "      <td>no</td>\n",
       "    </tr>\n",
       "    <tr>\n",
       "      <th>72399</th>\n",
       "      <td>369199</td>\n",
       "      <td>200</td>\n",
       "      <td>Driving Home For Christmas</td>\n",
       "      <td>Chris Rea</td>\n",
       "      <td>12505</td>\n",
       "      <td>https://open.spotify.com/track/0ZoHHROTzwIYeNA...</td>\n",
       "      <td>2017-12-31</td>\n",
       "      <td>no</td>\n",
       "    </tr>\n",
       "  </tbody>\n",
       "</table>\n",
       "</div>"
      ],
      "text/plain": [
       "       Unnamed: 0  Position                      Track Name  \\\n",
       "72395      369195       196                      Bade naken   \n",
       "72396      369196       197  Happy - From \"Despicable Me 2\"   \n",
       "72397      369197       198                  Would You Ever   \n",
       "72398      369198       199                     False Alarm   \n",
       "72399      369199       200      Driving Home For Christmas   \n",
       "\n",
       "                  Artist  Streams  \\\n",
       "72395             Plumbo    12700   \n",
       "72396  Pharrell Williams    12627   \n",
       "72397           Skrillex    12616   \n",
       "72398             Matoma    12535   \n",
       "72399          Chris Rea    12505   \n",
       "\n",
       "                                                     URL       Date Region  \n",
       "72395  https://open.spotify.com/track/4vGVOcH8F0O0TkT... 2017-12-31     no  \n",
       "72396  https://open.spotify.com/track/5b88tNINg4Q4nrR... 2017-12-31     no  \n",
       "72397  https://open.spotify.com/track/57p8CBvPOxrvyCb... 2017-12-31     no  \n",
       "72398  https://open.spotify.com/track/7gZQfdEQpmwAoPH... 2017-12-31     no  \n",
       "72399  https://open.spotify.com/track/0ZoHHROTzwIYeNA... 2017-12-31     no  "
      ]
     },
     "execution_count": 240,
     "metadata": {},
     "output_type": "execute_result"
    }
   ],
   "source": [
    "norway2.tail()"
   ]
  },
  {
   "cell_type": "markdown",
   "metadata": {},
   "source": [
    "### Brief Explanation of Code Above\n",
    "This is using our previous created function to get rid of all observations during 2018, and using our previous subsetted country dataframes of 50 observations per 200 days, and then saving this into a new dataframe with the country's name plus the nu"
   ]
  },
  {
   "cell_type": "markdown",
   "metadata": {},
   "source": [
    "### Limitations\n",
    "1) Given we are dealing with a relatively sample of only 2017, albeit with 50 songs per day, drawing conclusions for what type of music a happy or unhappy country listens may not prove out to be as accurate as we would like it to be. We can say, however, that the culture of a country likely does not vary signficantly from one year to another, so the top genres and happy scores may reflect of the country's values to an extent.\n",
    "\n",
    "2) Some countries were omitted in order to be able to use the countries in the happiness index and those in our spotify data. In order to draw some observations, we had to find overlap in songs. This may naturally produce bias since some potentially happy countries with potentially signficant relationships to music will completely be overlooked due to availability of data. This concerns mainly the overarching/big picture of happy countries and certain genres being more common.\n",
    "\n",
    "3) We are relying on the genre and danceability score for specific songs provided by a dataset. It is possible this dataset contains subjective information to the user, hence the genres and danceability scores may not reflect the names the people of the country would utilize. This metric of genre, further, may be interpreted as..."
   ]
  },
  {
   "cell_type": "code",
   "execution_count": 242,
   "metadata": {},
   "outputs": [],
   "source": [
    "# unique = np.array(norway2['Track Name'].unique())\n",
    "# p = [norway2[norway2['Track Name']==i].loc[:,'Streams'].mean() for i in unique]\n",
    "# plt.plot(unique, p)\n",
    "# plt.xlabel('Track Name')\n",
    "# plt.ylabel('Streams')"
   ]
  },
  {
   "cell_type": "code",
   "execution_count": 243,
   "metadata": {},
   "outputs": [
    {
     "name": "stdout",
     "output_type": "stream",
     "text": [
      "Unnamed: 0\n",
      "Position\n",
      "Track Name\n",
      "Artist\n",
      "Streams\n",
      "URL\n",
      "Date\n",
      "Region\n"
     ]
    }
   ],
   "source": [
    "for x in norway2:\n",
    "    print(x)"
   ]
  },
  {
   "cell_type": "code",
   "execution_count": 250,
   "metadata": {},
   "outputs": [],
   "source": [
    "def change(d):\n",
    "    '''\n",
    "    changes column names to all lower case \n",
    "    '''\n",
    "    new_colnames = [x.lower().replace(' ', '_') for x in d.columns]\n",
    "#     d = d.copy()\n",
    "    d.columns= new_colnames \n",
    "    d.dropna(inplace=True)\n",
    "#     return r"
   ]
  },
  {
   "cell_type": "code",
   "execution_count": 251,
   "metadata": {},
   "outputs": [],
   "source": [
    "filez= [norway2, denmark2, iceland2, switzerland2, finland2, \n",
    "                       netherlands2, canada2, newzealand2, sweden2, australia2, costarica2, austria2, \n",
    "                       unitedstates2, ireland2, germany2, belgium2, luxembourg2, unitedkingdom2, \n",
    "                       chile2, brazil2, czechrepublic2, argentina2, mexico2, singapore2, uruguay2, guatemala2,\n",
    "                       panama2, france2, spain2, colombia2, slovakia2, malaysia2, ecuador2, elsalvador2, poland2, \n",
    "                       italy2, japan2,lithuania2, latvia2, bolivia2, peru2, estonia2, turkey2, paraguay2, \n",
    "                       philippines2, hungary2, indonesia2, dominicanrepublic2, greece2, portugal2, honduras2, taiwan2]"
   ]
  },
  {
   "cell_type": "code",
   "execution_count": 252,
   "metadata": {},
   "outputs": [
    {
     "name": "stderr",
     "output_type": "stream",
     "text": [
      "/opt/anaconda3/lib/python3.7/site-packages/ipykernel_launcher.py:8: SettingWithCopyWarning: \n",
      "A value is trying to be set on a copy of a slice from a DataFrame\n",
      "\n",
      "See the caveats in the documentation: https://pandas.pydata.org/pandas-docs/stable/user_guide/indexing.html#returning-a-view-versus-a-copy\n",
      "  \n"
     ]
    }
   ],
   "source": [
    "for file in filez:\n",
    "    change(file)"
   ]
  },
  {
   "cell_type": "code",
   "execution_count": 253,
   "metadata": {},
   "outputs": [
    {
     "data": {
      "text/html": [
       "<div>\n",
       "<style scoped>\n",
       "    .dataframe tbody tr th:only-of-type {\n",
       "        vertical-align: middle;\n",
       "    }\n",
       "\n",
       "    .dataframe tbody tr th {\n",
       "        vertical-align: top;\n",
       "    }\n",
       "\n",
       "    .dataframe thead th {\n",
       "        text-align: right;\n",
       "    }\n",
       "</style>\n",
       "<table border=\"1\" class=\"dataframe\">\n",
       "  <thead>\n",
       "    <tr style=\"text-align: right;\">\n",
       "      <th></th>\n",
       "      <th>unnamed:_0</th>\n",
       "      <th>position</th>\n",
       "      <th>track_name</th>\n",
       "      <th>artist</th>\n",
       "      <th>streams</th>\n",
       "      <th>url</th>\n",
       "      <th>date</th>\n",
       "      <th>region</th>\n",
       "    </tr>\n",
       "  </thead>\n",
       "  <tbody>\n",
       "    <tr>\n",
       "      <th>0</th>\n",
       "      <td>1647322</td>\n",
       "      <td>1</td>\n",
       "      <td>Hey Baby</td>\n",
       "      <td>Dimitri Vegas &amp; Like Mike</td>\n",
       "      <td>23277</td>\n",
       "      <td>https://open.spotify.com/track/6yc377A8qxHIjPU...</td>\n",
       "      <td>2017-01-01</td>\n",
       "      <td>be</td>\n",
       "    </tr>\n",
       "    <tr>\n",
       "      <th>1</th>\n",
       "      <td>1647323</td>\n",
       "      <td>2</td>\n",
       "      <td>Closer</td>\n",
       "      <td>The Chainsmokers</td>\n",
       "      <td>17456</td>\n",
       "      <td>https://open.spotify.com/track/7BKLCZ1jbUBVqRi...</td>\n",
       "      <td>2017-01-01</td>\n",
       "      <td>be</td>\n",
       "    </tr>\n",
       "    <tr>\n",
       "      <th>2</th>\n",
       "      <td>1647324</td>\n",
       "      <td>3</td>\n",
       "      <td>Starboy</td>\n",
       "      <td>The Weeknd</td>\n",
       "      <td>17374</td>\n",
       "      <td>https://open.spotify.com/track/5aAx2yezTd8zXrk...</td>\n",
       "      <td>2017-01-01</td>\n",
       "      <td>be</td>\n",
       "    </tr>\n",
       "    <tr>\n",
       "      <th>3</th>\n",
       "      <td>1647325</td>\n",
       "      <td>4</td>\n",
       "      <td>Rockabye (feat. Sean Paul &amp; Anne-Marie)</td>\n",
       "      <td>Clean Bandit</td>\n",
       "      <td>16763</td>\n",
       "      <td>https://open.spotify.com/track/5knuzwU65gJK7IF...</td>\n",
       "      <td>2017-01-01</td>\n",
       "      <td>be</td>\n",
       "    </tr>\n",
       "    <tr>\n",
       "      <th>4</th>\n",
       "      <td>1647326</td>\n",
       "      <td>5</td>\n",
       "      <td>What Is Love 2016</td>\n",
       "      <td>Lost Frequencies</td>\n",
       "      <td>16197</td>\n",
       "      <td>https://open.spotify.com/track/5hIR7SX1fSrr5ev...</td>\n",
       "      <td>2017-01-01</td>\n",
       "      <td>be</td>\n",
       "    </tr>\n",
       "  </tbody>\n",
       "</table>\n",
       "</div>"
      ],
      "text/plain": [
       "   unnamed:_0  position                               track_name  \\\n",
       "0     1647322         1                                 Hey Baby   \n",
       "1     1647323         2                                   Closer   \n",
       "2     1647324         3                                  Starboy   \n",
       "3     1647325         4  Rockabye (feat. Sean Paul & Anne-Marie)   \n",
       "4     1647326         5                        What Is Love 2016   \n",
       "\n",
       "                      artist  streams  \\\n",
       "0  Dimitri Vegas & Like Mike    23277   \n",
       "1           The Chainsmokers    17456   \n",
       "2                 The Weeknd    17374   \n",
       "3               Clean Bandit    16763   \n",
       "4           Lost Frequencies    16197   \n",
       "\n",
       "                                                 url       date region  \n",
       "0  https://open.spotify.com/track/6yc377A8qxHIjPU... 2017-01-01     be  \n",
       "1  https://open.spotify.com/track/7BKLCZ1jbUBVqRi... 2017-01-01     be  \n",
       "2  https://open.spotify.com/track/5aAx2yezTd8zXrk... 2017-01-01     be  \n",
       "3  https://open.spotify.com/track/5knuzwU65gJK7IF... 2017-01-01     be  \n",
       "4  https://open.spotify.com/track/5hIR7SX1fSrr5ev... 2017-01-01     be  "
      ]
     },
     "execution_count": 253,
     "metadata": {},
     "output_type": "execute_result"
    }
   ],
   "source": [
    "# change(norway2)\n",
    "belgium2.head()"
   ]
  },
  {
   "cell_type": "code",
   "execution_count": 254,
   "metadata": {},
   "outputs": [
    {
     "name": "stdout",
     "output_type": "stream",
     "text": [
      "35835\n",
      "35068\n"
     ]
    }
   ],
   "source": [
    "print(len(iceland))\n",
    "print(len(iceland2))"
   ]
  },
  {
   "cell_type": "code",
   "execution_count": 256,
   "metadata": {},
   "outputs": [
    {
     "data": {
      "text/plain": [
       "Text(0, 0.5, 'price')"
      ]
     },
     "execution_count": 256,
     "metadata": {},
     "output_type": "execute_result"
    },
    {
     "data": {
      "image/png": "[encoded data removed]",
      "text/plain": [
       "<Figure size 432x288 with 1 Axes>"
      ]
     },
     "metadata": {
      "needs_background": "light"
     },
     "output_type": "display_data"
    }
   ],
   "source": [
    "unique = np.array(iceland2['track_name'].unique())\n",
    "p = [iceland2[iceland2['track_name']==i].loc[:,'streams'].mean() for i in unique]\n",
    "plt.plot(unique, p)\n",
    "plt.xlabel('publication years')\n",
    "plt.ylabel('price')"
   ]
  },
  {
   "cell_type": "code",
   "execution_count": null,
   "metadata": {},
   "outputs": [],
   "source": []
  },
  {
   "cell_type": "code",
   "execution_count": null,
   "metadata": {},
   "outputs": [],
   "source": []
  }
 ],
 "metadata": {
  "kernelspec": {
   "display_name": "Python 3",
   "language": "python",
   "name": "python3"
  },
  "language_info": {
   "codemirror_mode": {
    "name": "ipython",
    "version": 3
   },
   "file_extension": ".py",
   "mimetype": "text/x-python",
   "name": "python",
   "nbconvert_exporter": "python",
   "pygments_lexer": "ipython3",
   "version": "3.7.6"
  }
 },
 "nbformat": 4,
 "nbformat_minor": 4
}
