{
 "cells": [
  {
   "cell_type": "code",
   "execution_count": 4,
   "metadata": {},
   "outputs": [],
   "source": [
    "import requests #package for http requests\n",
    "import bs4 # package for html parsing\n",
    "import numpy as np\n",
    "import matplotlib.pyplot as plt\n",
    "import pandas as pd"
   ]
  },
  {
   "cell_type": "markdown",
   "metadata": {},
   "source": [
    "## Research Question\n",
    "Is there a relationship in how happy a country is and the music the people of this country listen to?"
   ]
  },
  {
   "cell_type": "markdown",
   "metadata": {},
   "source": [
    "### Introduction\n",
    "Attempting to understand what makes a country \"happy\" is often attributable to freedom, social support, life expectancy, health, among others; however, the music the people of said country listen to is often not one of these factors given its weak relationship and versatility across the world. Although our research question does not attempt to attribute the type of music a country listens to to its happiness index score (it would be difficult to establish given reverse causality), we are more interested in observing what trends are apparent in some of the happiest and less happiest countries with respect to the music they listen to. \n",
    "\n",
    "We will be using the happiness rank and happiness score for the year 2017, provided by a dataset on Kaggle by Sustainable Development Solutions Network. As for the music, we will be using two distinct spotify datasets for the year 2017 from Kaggle. We will be using features of one of these datasets, such as genre and danceability score, in order to draw comparisons with our happiness scores. "
   ]
  },
  {
   "cell_type": "code",
   "execution_count": 5,
   "metadata": {},
   "outputs": [],
   "source": [
    "happy2015=pd.read_csv(\"2015.csv\")\n",
    "happy2016=pd.read_csv(\"2016.csv\")\n",
    "happy2017=pd.read_csv(\"2017.csv\")\n",
    "happy2018=pd.read_csv(\"2018.csv\")\n",
    "happy2019=pd.read_csv(\"2019.csv\")"
   ]
  },
  {
   "cell_type": "code",
   "execution_count": 6,
   "metadata": {
    "scrolled": true
   },
   "outputs": [],
   "source": [
    "#allspotifydata=pd.read_csv(\"data 2.csv\")\n",
    "#countries=pd.unique(allspotifydata['Region'])\n",
    "\n",
    "#allcountries=[]\n",
    "#for country in countries:\n",
    "    #allcountries.append(allspotifydata[allspotifydata['Region']==country])\n",
    "\n",
    "#count=1\n",
    "#for df in allcountries:\n",
    "    #name='country'+str(count)+'.csv'\n",
    "    #df.to_csv(r'C:\\Users\\Eva\\Downloads\\country'+str(count)+'.csv')\n",
    "    #count=count+1"
   ]
  },
  {
   "cell_type": "code",
   "execution_count": 7,
   "metadata": {},
   "outputs": [],
   "source": [
    "argentina=pd.read_csv(\"argentina.csv\")\n",
    "australia=pd.read_csv(\"australia.csv\")\n",
    "austria=pd.read_csv(\"austria.csv\")\n",
    "belgium=pd.read_csv(\"belgium.csv\")\n",
    "bolivia=pd.read_csv(\"bolivia.csv\")\n",
    "brazil=pd.read_csv(\"brazil.csv\")\n",
    "canada=pd.read_csv(\"canada.csv\")\n",
    "chile=pd.read_csv(\"chile.csv\")\n",
    "colombia=pd.read_csv(\"colombia.csv\")\n",
    "costarica=pd.read_csv(\"costarica.csv\")\n",
    "czechrepublic=pd.read_csv(\"czechrepublic.csv\")\n",
    "denmark=pd.read_csv(\"denmark.csv\")\n",
    "dominicanrepublic=pd.read_csv(\"dominicanrepublic.csv\")\n",
    "ecuador=pd.read_csv(\"ecuador.csv\")\n",
    "elsalvador=pd.read_csv('elsalvador.csv')\n",
    "estonia=pd.read_csv('estonia.csv')\n",
    "finland=pd.read_csv(\"finland.csv\")\n",
    "france=pd.read_csv(\"france.csv\")\n",
    "germany=pd.read_csv(\"germany.csv\")\n",
    "Global=pd.read_csv('global.csv')\n",
    "greece=pd.read_csv('greece.csv')\n",
    "guatemala=pd.read_csv(\"guatemala.csv\")\n",
    "honduras=pd.read_csv(\"honduras.csv\")\n",
    "hongkong=pd.read_csv(\"hongkong.csv\")\n",
    "hungary=pd.read_csv(\"hungary.csv\")\n",
    "iceland=pd.read_csv(\"iceland.csv\")\n",
    "indonesia=pd.read_csv(\"indonesia.csv\")\n",
    "ireland=pd.read_csv(\"ireland.csv\")\n",
    "italy=pd.read_csv(\"italy.csv\")\n",
    "japan=pd.read_csv(\"japan.csv\")\n",
    "latvia=pd.read_csv(\"latvia.csv\")\n",
    "lithuania=pd.read_csv(\"lithuania.csv\")\n",
    "luxembourg=pd.read_csv(\"luxembourg.csv\")\n",
    "malaysia=pd.read_csv(\"malaysia.csv\")\n",
    "mexico=pd.read_csv(\"mexico.csv\")\n",
    "netherlands=pd.read_csv(\"netherlands.csv\")\n",
    "newzealand=pd.read_csv(\"newzealand.csv\")\n",
    "norway=pd.read_csv(\"norway.csv\")\n",
    "panama=pd.read_csv(\"panama.csv\")\n",
    "paraguay=pd.read_csv(\"paraguay.csv\")\n",
    "peru=pd.read_csv(\"peru.csv\")\n",
    "philippines=pd.read_csv(\"philippines.csv\")\n",
    "poland=pd.read_csv(\"poland.csv\")\n",
    "portugal=pd.read_csv(\"portugal.csv\")\n",
    "singapore=pd.read_csv(\"singapore.csv\")\n",
    "slovakia=pd.read_csv(\"slovakia.csv\")\n",
    "spain=pd.read_csv(\"spain.csv\")\n",
    "sweden=pd.read_csv(\"sweden.csv\")\n",
    "switzerland=pd.read_csv(\"switzerland.csv\")\n",
    "taiwan=pd.read_csv(\"taiwan.csv\")\n",
    "turkey=pd.read_csv(\"turkey.csv\")\n",
    "unitedkingdom=pd.read_csv(\"unitedkingdom.csv\")\n",
    "unitedstates=pd.read_csv(\"unitedstates.csv\")\n",
    "uruguay=pd.read_csv(\"uruguay.csv\")"
   ]
  },
  {
   "cell_type": "code",
   "execution_count": 8,
   "metadata": {},
   "outputs": [
    {
     "name": "stdout",
     "output_type": "stream",
     "text": [
      "These are the spotify datsets we should use: ['norway', 'denmark', 'iceland', 'switzerland', 'finland', 'netherlands', 'canada', 'newzealand', 'sweden', 'australia', 'costarica', 'austria', 'unitedstates', 'ireland', 'germany', 'belgium', 'luxembourg', 'unitedkingdom', 'chile', 'brazil', 'czechrepublic', 'argentina', 'mexico', 'singapore', 'uruguay', 'guatemala', 'panama', 'france', 'spain', 'colombia', 'slovakia', 'malaysia', 'ecuador', 'elsalvador', 'poland', 'italy', 'japan', 'lithuania', 'latvia', 'bolivia', 'peru', 'estonia', 'turkey', 'paraguay', 'philippines', 'hungary', 'indonesia', 'dominicanrepublic', 'greece', 'portugal', 'honduras', 'Taiwan']\n",
      "                     Country  Happiness.Rank  Happiness.Score\n",
      "0                     Norway             1.0            7.537\n",
      "1                    Denmark             2.0            7.522\n",
      "2                    Iceland             3.0            7.504\n",
      "3                Switzerland             4.0            7.494\n",
      "4                    Finland             5.0            7.469\n",
      "5                Netherlands             6.0            7.377\n",
      "6                     Canada             7.0            7.316\n",
      "7                New Zealand             8.0            7.314\n",
      "8                     Sweden             9.0            7.284\n",
      "9                  Australia            10.0            7.284\n",
      "10                Costa Rica            12.0            7.079\n",
      "11                   Austria            13.0            7.006\n",
      "12             United States            14.0            6.993\n",
      "13                   Ireland            15.0            6.977\n",
      "14                   Germany            16.0            6.951\n",
      "15                   Belgium            17.0            6.891\n",
      "16                Luxembourg            18.0            6.863\n",
      "17            United Kingdom            19.0            6.714\n",
      "18                     Chile            20.0            6.652\n",
      "19                    Brazil            22.0            6.635\n",
      "20            Czech Republic            23.0            6.609\n",
      "21                 Argentina            24.0            6.599\n",
      "22                    Mexico            25.0            6.578\n",
      "23                 Singapore            26.0            6.572\n",
      "24                   Uruguay            28.0            6.454\n",
      "25                 Guatemala            29.0            6.454\n",
      "26                    Panama            30.0            6.452\n",
      "27                    France            31.0            6.442\n",
      "28                     Spain            34.0            6.403\n",
      "29                  Colombia            36.0            6.357\n",
      "30                  Slovakia            40.0            6.098\n",
      "31                  Malaysia            42.0            6.084\n",
      "32                   Ecuador            44.0            6.008\n",
      "33               El Salvador            45.0            6.003\n",
      "34                    Poland            46.0            5.973\n",
      "35                     Italy            48.0            5.964\n",
      "36                     Japan            51.0            5.920\n",
      "37                 Lithuania            52.0            5.902\n",
      "38                    Latvia            54.0            5.850\n",
      "39                   Bolivia            58.0            5.823\n",
      "40                      Peru            63.0            5.715\n",
      "41                   Estonia            66.0            5.611\n",
      "42                    Turkey            69.0            5.500\n",
      "43                  Paraguay            70.0            5.493\n",
      "44               Philippines            72.0            5.430\n",
      "45                   Hungary            75.0            5.324\n",
      "46                 Indonesia            81.0            5.262\n",
      "47        Dominican Republic            86.0            5.230\n",
      "48                    Greece            87.0            5.227\n",
      "49                  Portugal            89.0            5.195\n",
      "50                  Honduras            91.0            5.181\n",
      "51  Taiwan Province of China            33.0            6.422\n"
     ]
    }
   ],
   "source": [
    "allspotifycountries=[\"argentina\", \"australia\", \"austria\", \"belgium\", \"brazil\",\"bolivia\", \"canada\", \"chile\", \"colombia\", \"costarica\", \"czechrepublic\",\"denmark\", \"dominicanrepublic\", \"estonia\", \"elsalvador\", \"Global\",\"greece\", \"ecuador\", \"finland\", \"france\", \"germany\", \"guatemala\", \"honduras\", \"hongkong\", \"hungary\", \"iceland\", \"indonesia\", \"ireland\", \"italy\", \"japan\", \"latvia\", \"lithuania\", \"luxembourg\", \"malaysia\", \"mexico\", \"netherlands\", \"newzealand\", \"norway\", \"panama\", \"paraguay\", \"peru\", \"philippines\", \"poland\", \"portugal\", \"singapore\", \"slovakia\", \"spain\", \"sweden\", \"switzerland\", \"taiwan\", \"turkey\", \"unitedkingdom\", \"unitedstates\", \"uruguay\"]\n",
    "\n",
    "#list for countries that are found in both datsets.\n",
    "allcountries=[]\n",
    "for row in range(len(happy2017)):\n",
    "    country=happy2017.loc[row,'Country']\n",
    "    country=country.lower()\n",
    "    country=country.replace(\" \",\"\")\n",
    "    if country in allspotifycountries:\n",
    "        allcountries.append(country)      \n",
    "\n",
    "#Happy Index from 2017 with only 'Country', 'Happiness.Rank', and 'Happiness.Score' columns and only with countries that have their own dataset for spotify daily.        \n",
    "happy=pd.DataFrame({'Country':[],'Happiness.Rank':[],'Happiness.Score':[]})\n",
    "for row in range(len(happy2017)):\n",
    "    country=happy2017.loc[row,'Country']\n",
    "    country=country.lower()\n",
    "    country=country.replace(\" \",\"\")\n",
    "    if country in allcountries:       \n",
    "        newrow={'Country':happy2017.loc[row,'Country'],'Happiness.Rank':happy2017.loc[row,'Happiness.Rank'],'Happiness.Score':happy2017.loc[row,'Happiness.Score']}\n",
    "        happy=happy.append(newrow, ignore_index=True)\n",
    "\n",
    "        \n",
    "#Noticed that Taiwan is referred to as Taiwan Province of China on Happy Index.\n",
    "newrow={'Country':happy2017.loc[32,'Country'],'Happiness.Rank':happy2017.loc[32,'Happiness.Rank'],'Happiness.Score':happy2017.loc[32,'Happiness.Score']}\n",
    "happy=happy.append(newrow, ignore_index=True)\n",
    "\n",
    "#allspotifydata[allspotifydata['Region']==country])\n",
    "allcountries.append(\"Taiwan\")\n",
    "print('These are the spotify datsets we should use: ' + str(allcountries))\n",
    "print(happy)"
   ]
  },
  {
   "cell_type": "code",
   "execution_count": 9,
   "metadata": {},
   "outputs": [],
   "source": [
    "#we're not using this function yet\n",
    "def firstfifty_fake(dataframe):\n",
    "    \"\"\"\n",
    "    This will get the first 50 observations in every 200 observations.\n",
    "    there are 200 observations in 1 day, and there are 365 days.\n",
    "    \"\"\"\n",
    "    acc=0\n",
    "    new=[]\n",
    "    for song in dataframe:\n",
    "        print(song)\n",
    "        new_songs = dataframe.iloc[acc:acc+50]\n",
    "        acc+=200\n",
    "        dataframe =new_songs\n",
    "        new.append(new_songs)\n",
    "        return dataframe"
   ]
  },
  {
   "cell_type": "markdown",
   "metadata": {},
   "source": [
    "#### Brief Explanation of Code Above\n",
    "This is a similar function to the one encountered below; however, this does not quite fulfill our desire goal, so we have just lef it for future use."
   ]
  },
  {
   "cell_type": "code",
   "execution_count": 10,
   "metadata": {},
   "outputs": [],
   "source": [
    "#adding the countries we will work with based on the subset below in allcountries. We will use this to subset the first 50 songs below\n",
    "countries_to_subset = [norway, denmark, iceland, switzerland, finland, \n",
    "                       netherlands, canada, newzealand, sweden, australia, costarica, austria, \n",
    "                       unitedstates, ireland, germany, belgium, luxembourg, unitedkingdom, \n",
    "                       chile, brazil, czechrepublic, argentina, mexico, singapore, uruguay, guatemala,\n",
    "                       panama, france, spain, colombia, slovakia, malaysia, ecuador, elsalvador, poland, \n",
    "                       italy, japan,lithuania, latvia, bolivia, peru, estonia, turkey, paraguay, \n",
    "                       philippines, hungary, indonesia, dominicanrepublic, greece, portugal, honduras, taiwan]\n",
    "\n",
    "countries_to_subset_str = ['norway', 'denmark', 'iceland', 'switzerland', 'finland', 'netherlands', \n",
    "                           'canada', 'newzealand', 'sweden', 'australia', 'costarica', 'austria', \n",
    "                           'unitedstates', 'ireland', 'germany', 'belgium', 'luxembourg', 'unitedkingdom', \n",
    "                           'chile', 'brazil', 'czechrepublic', 'argentina', 'mexico', 'singapore', \n",
    "                           'uruguay', 'guatemala', 'panama', 'france', 'spain', 'colombia', 'slovakia', \n",
    "                           'malaysia', 'ecuador', 'elsalvador', 'poland', 'italy', 'japan', 'lithuania',\n",
    "                           'latvia', 'bolivia', 'peru', 'estonia', 'turkey', 'paraguay', 'philippines', \n",
    "                           'hungary', 'indonesia', 'dominicanrepublic', 'greece', 'portugal', 'honduras', 'Taiwan']"
   ]
  },
  {
   "cell_type": "markdown",
   "metadata": {},
   "source": [
    "#### Brief Explanation of Code Above\n",
    "This part is collecting a list of all the \"usable\" countries' dataframes, as determined by the subset above in which happiness rank is compared to the spotify dataset. It collects these dataframes to then use them in a for-loop below. We are also taking a list of the selfsame countries in string form to work with their names for purposes later in our code"
   ]
  },
  {
   "cell_type": "code",
   "execution_count": 11,
   "metadata": {},
   "outputs": [],
   "source": [
    "#fake_norway = norway.groupby(norway.index//200).head(50)\n",
    "def first_fifty(dataframe):\n",
    "    \"\"\"\n",
    "    This will get the first 50 observations in every 200 observations.\n",
    "    There should only be 200 observations in 1 day, and there are 365 days per country in this data,\n",
    "    which is the purpose of this function.\n",
    "    \n",
    "    Parameter dataframe: this is the countrydatafram which we will work with.\n",
    "    Precondition: a pandas dataframe object\n",
    "    \"\"\"\n",
    "    subset_data = dataframe.groupby(dataframe.index//200).head(50) \n",
    "    dataframe = subset_data.copy()\n",
    "    return dataframe"
   ]
  },
  {
   "cell_type": "markdown",
   "metadata": {},
   "source": [
    "#### Brief Explanation of Code Above\n",
    "A function meant to subset the first fifty observations of every 200 songs in our dataset as otherwise we would be working with 200 songs x 265 days, which is excessive for our analysis – and memory – purposes."
   ]
  },
  {
   "cell_type": "code",
   "execution_count": 12,
   "metadata": {},
   "outputs": [
    {
     "name": "stdout",
     "output_type": "stream",
     "text": [
      "       Unnamed: 0  Position  \\\n",
      "0         3339805         1   \n",
      "1         3339806         2   \n",
      "2         3339807         3   \n",
      "3         3339808         4   \n",
      "4         3339809         5   \n",
      "...           ...       ...   \n",
      "27045     3366850        18   \n",
      "27046     3366851        19   \n",
      "27047     3366852        20   \n",
      "27048     3366853        21   \n",
      "27049     3366854        22   \n",
      "\n",
      "                                              Track Name             Artist  \\\n",
      "0                                                Starboy         The Weeknd   \n",
      "1                                        Let Me Love You           DJ Snake   \n",
      "2                                                 Closer   The Chainsmokers   \n",
      "3                Rockabye (feat. Sean Paul & Anne-Marie)       Clean Bandit   \n",
      "4      I Don’t Wanna Live Forever (Fifty Shades Darke...               ZAYN   \n",
      "...                                                  ...                ...   \n",
      "27045                                      Man's Not Hot           Big Shaq   \n",
      "27046                Perfect Duet (Ed Sheeran & Beyoncé)         Ed Sheeran   \n",
      "27047                         What Lovers Do (feat. SZA)           Maroon 5   \n",
      "27048                                             Filthy  Justin Timberlake   \n",
      "27049                               Too Good At Goodbyes          Sam Smith   \n",
      "\n",
      "       Streams                                                URL        Date  \\\n",
      "0         4209  https://open.spotify.com/track/5aAx2yezTd8zXrk...  2017-01-01   \n",
      "1         2467  https://open.spotify.com/track/4pdPtRcBmOSQDlJ...  2017-01-01   \n",
      "2         2450  https://open.spotify.com/track/7BKLCZ1jbUBVqRi...  2017-01-01   \n",
      "3         2183  https://open.spotify.com/track/5knuzwU65gJK7IF...  2017-01-01   \n",
      "4         2045  https://open.spotify.com/track/3NdDpSvN911VPGi...  2017-01-01   \n",
      "...        ...                                                ...         ...   \n",
      "27045     2503  https://open.spotify.com/track/2nUJvBO87SkxCVi...  2018-01-08   \n",
      "27046     2483  https://open.spotify.com/track/1bhUWB0zJMIKr9y...  2018-01-08   \n",
      "27047     2464  https://open.spotify.com/track/3hBBKuWJfxlIlnd...  2018-01-08   \n",
      "27048     2431  https://open.spotify.com/track/1L3NV7VrCiuE8C5...  2018-01-08   \n",
      "27049     2370  https://open.spotify.com/track/1mXVgsBdtIVeCLJ...  2018-01-08   \n",
      "\n",
      "      Region  \n",
      "0         gr  \n",
      "1         gr  \n",
      "2         gr  \n",
      "3         gr  \n",
      "4         gr  \n",
      "...      ...  \n",
      "27045     gr  \n",
      "27046     gr  \n",
      "27047     gr  \n",
      "27048     gr  \n",
      "27049     gr  \n",
      "\n",
      "[6800 rows x 8 columns]\n"
     ]
    }
   ],
   "source": [
    "# for country in countries_to_subset:\n",
    "# #     new_name = str(country)+ '1'\n",
    "# #     new_name = first_fifty(country)\n",
    "#     str(country)= first_fifty(country)\n",
    "norway1 = first_fifty(norway)\n",
    "denmark1= first_fifty(denmark)\n",
    "iceland1 = first_fifty(iceland)\n",
    "switzerland1= first_fifty(switzerland)\n",
    "finland1 = first_fifty(finland)\n",
    "netherlands1= first_fifty(netherlands)\n",
    "canada1 = first_fifty(canada)\n",
    "newzealand1= first_fifty(newzealand)\n",
    "sweden1= first_fifty(sweden)\n",
    "australia1= first_fifty(australia)\n",
    "costarica1= first_fifty(costarica)\n",
    "austria1 = first_fifty(austria)\n",
    "unitedstates1= first_fifty(unitedstates)\n",
    "ireland1= first_fifty(ireland)\n",
    "germany1= first_fifty(germany)\n",
    "belgium1= first_fifty(belgium)\n",
    "luxembourg1= first_fifty(luxembourg)\n",
    "unitedkingdom1= first_fifty(unitedkingdom)\n",
    "chile1= first_fifty(chile)\n",
    "brazil1= first_fifty(brazil)\n",
    "czechrepublic1= first_fifty(czechrepublic)\n",
    "argentina1= first_fifty(argentina)\n",
    "mexico1= first_fifty(mexico)\n",
    "singapore1= first_fifty(singapore)\n",
    "uruguay1= first_fifty(uruguay)\n",
    "guatemala1= first_fifty(guatemala)\n",
    "panama1= first_fifty(panama)\n",
    "france1= first_fifty(france)\n",
    "spain1= first_fifty(spain)\n",
    "colombia1= first_fifty(colombia)\n",
    "slovakia1= first_fifty(slovakia)\n",
    "malaysia1= first_fifty(malaysia)\n",
    "ecuador1= first_fifty(ecuador)\n",
    "elsalvador1= first_fifty(elsalvador)\n",
    "poland1= first_fifty(poland)\n",
    "italy1= first_fifty(italy)\n",
    "japan1= first_fifty(japan)\n",
    "lithuania1= first_fifty(lithuania)\n",
    "latvia1= first_fifty(latvia)\n",
    "bolivia1= first_fifty(bolivia)\n",
    "peru1= first_fifty(peru)\n",
    "estonia1= first_fifty(estonia)\n",
    "turkey1= first_fifty(turkey)\n",
    "paraguay1= first_fifty(paraguay)\n",
    "philippines1= first_fifty(philippines)\n",
    "hungary1= first_fifty(hungary)\n",
    "indonesia1= first_fifty(indonesia)\n",
    "dominicanrepublic1= first_fifty(dominicanrepublic)\n",
    "greece1= first_fifty(greece)\n",
    "portugal1= first_fifty(portugal)\n",
    "honduras1= first_fifty(honduras)\n",
    "taiwan1= first_fifty(taiwan)"
   ]
  },
  {
   "cell_type": "markdown",
   "metadata": {},
   "source": [
    "#### Brief Explanation of Code Above\n",
    "This part is attaching these new subsetted dataframes to each country's name and adding 1 to it, as to not alter the original dataframe.\n",
    "\n",
    "Ex: The original Norway dataframe contains all the subsetted data of 50 observations for every 200 songs (day) in the now-new dataframe Norway1"
   ]
  },
  {
   "cell_type": "code",
   "execution_count": 13,
   "metadata": {},
   "outputs": [
    {
     "data": {
      "text/html": [
       "<div>\n",
       "<style scoped>\n",
       "    .dataframe tbody tr th:only-of-type {\n",
       "        vertical-align: middle;\n",
       "    }\n",
       "\n",
       "    .dataframe tbody tr th {\n",
       "        vertical-align: top;\n",
       "    }\n",
       "\n",
       "    .dataframe thead th {\n",
       "        text-align: right;\n",
       "    }\n",
       "</style>\n",
       "<table border=\"1\" class=\"dataframe\">\n",
       "  <thead>\n",
       "    <tr style=\"text-align: right;\">\n",
       "      <th></th>\n",
       "      <th>Unnamed: 0</th>\n",
       "      <th>Position</th>\n",
       "      <th>Track Name</th>\n",
       "      <th>Artist</th>\n",
       "      <th>Streams</th>\n",
       "      <th>URL</th>\n",
       "      <th>Date</th>\n",
       "      <th>Region</th>\n",
       "    </tr>\n",
       "  </thead>\n",
       "  <tbody>\n",
       "    <tr>\n",
       "      <th>0</th>\n",
       "      <td>536199</td>\n",
       "      <td>1</td>\n",
       "      <td>Closer</td>\n",
       "      <td>The Chainsmokers</td>\n",
       "      <td>18651</td>\n",
       "      <td>https://open.spotify.com/track/7BKLCZ1jbUBVqRi...</td>\n",
       "      <td>2017-01-01</td>\n",
       "      <td>tw</td>\n",
       "    </tr>\n",
       "    <tr>\n",
       "      <th>1</th>\n",
       "      <td>536200</td>\n",
       "      <td>2</td>\n",
       "      <td>Starboy</td>\n",
       "      <td>The Weeknd</td>\n",
       "      <td>14568</td>\n",
       "      <td>https://open.spotify.com/track/5aAx2yezTd8zXrk...</td>\n",
       "      <td>2017-01-01</td>\n",
       "      <td>tw</td>\n",
       "    </tr>\n",
       "    <tr>\n",
       "      <th>2</th>\n",
       "      <td>536201</td>\n",
       "      <td>3</td>\n",
       "      <td>I Don’t Wanna Live Forever (Fifty Shades Darke...</td>\n",
       "      <td>ZAYN</td>\n",
       "      <td>13476</td>\n",
       "      <td>https://open.spotify.com/track/3NdDpSvN911VPGi...</td>\n",
       "      <td>2017-01-01</td>\n",
       "      <td>tw</td>\n",
       "    </tr>\n",
       "    <tr>\n",
       "      <th>3</th>\n",
       "      <td>536202</td>\n",
       "      <td>4</td>\n",
       "      <td>Let Me Love You</td>\n",
       "      <td>DJ Snake</td>\n",
       "      <td>13431</td>\n",
       "      <td>https://open.spotify.com/track/4pdPtRcBmOSQDlJ...</td>\n",
       "      <td>2017-01-01</td>\n",
       "      <td>tw</td>\n",
       "    </tr>\n",
       "    <tr>\n",
       "      <th>4</th>\n",
       "      <td>536203</td>\n",
       "      <td>5</td>\n",
       "      <td>帥到分手</td>\n",
       "      <td>NICKTHEREAL</td>\n",
       "      <td>13315</td>\n",
       "      <td>https://open.spotify.com/track/2tG6FZtaX5NPWFA...</td>\n",
       "      <td>2017-01-01</td>\n",
       "      <td>tw</td>\n",
       "    </tr>\n",
       "  </tbody>\n",
       "</table>\n",
       "</div>"
      ],
      "text/plain": [
       "   Unnamed: 0  Position                                         Track Name  \\\n",
       "0      536199         1                                             Closer   \n",
       "1      536200         2                                            Starboy   \n",
       "2      536201         3  I Don’t Wanna Live Forever (Fifty Shades Darke...   \n",
       "3      536202         4                                    Let Me Love You   \n",
       "4      536203         5                                               帥到分手   \n",
       "\n",
       "             Artist  Streams  \\\n",
       "0  The Chainsmokers    18651   \n",
       "1        The Weeknd    14568   \n",
       "2              ZAYN    13476   \n",
       "3          DJ Snake    13431   \n",
       "4       NICKTHEREAL    13315   \n",
       "\n",
       "                                                 URL        Date Region  \n",
       "0  https://open.spotify.com/track/7BKLCZ1jbUBVqRi...  2017-01-01     tw  \n",
       "1  https://open.spotify.com/track/5aAx2yezTd8zXrk...  2017-01-01     tw  \n",
       "2  https://open.spotify.com/track/3NdDpSvN911VPGi...  2017-01-01     tw  \n",
       "3  https://open.spotify.com/track/4pdPtRcBmOSQDlJ...  2017-01-01     tw  \n",
       "4  https://open.spotify.com/track/2tG6FZtaX5NPWFA...  2017-01-01     tw  "
      ]
     },
     "execution_count": 13,
     "metadata": {},
     "output_type": "execute_result"
    }
   ],
   "source": [
    "taiwan1.head()"
   ]
  },
  {
   "cell_type": "code",
   "execution_count": 14,
   "metadata": {},
   "outputs": [],
   "source": [
    "def not18(dataframe):\n",
    "    dataframe['Date'] = pd.to_datetime(dataframe['Date'])\n",
    "    dataframe = dataframe[dataframe['Date'].dt.year != 2018]\n",
    "    return dataframe"
   ]
  },
  {
   "cell_type": "markdown",
   "metadata": {},
   "source": [
    "### Brief Explanation of Code Above\n",
    "This is a function meant to exclude all observations, or songs, from 2018 accidentally subsetted in our dataframe. This is consistent with our happiness index from 2017, so we wanted to keep only songs from 2017."
   ]
  },
  {
   "cell_type": "code",
   "execution_count": 15,
   "metadata": {},
   "outputs": [
    {
     "data": {
      "text/plain": [
       "0       2017-01-01\n",
       "1       2017-01-01\n",
       "2       2017-01-01\n",
       "3       2017-01-01\n",
       "4       2017-01-01\n",
       "           ...    \n",
       "35035   2017-12-31\n",
       "35036   2017-12-31\n",
       "35037   2017-12-31\n",
       "35038   2017-12-31\n",
       "35039   2017-12-31\n",
       "Name: Date, Length: 8790, dtype: datetime64[ns]"
      ]
     },
     "execution_count": 15,
     "metadata": {},
     "output_type": "execute_result"
    }
   ],
   "source": [
    "newicee = not18(iceland1)\n",
    "newicee['Date'].head(-10)"
   ]
  },
  {
   "cell_type": "markdown",
   "metadata": {},
   "source": [
    "### Example of the function not18 above\n",
    "This is taking one of our country datasets (Iceland), which – as shown from the result– only takes into account songs from January 2017 until December 2017."
   ]
  },
  {
   "cell_type": "code",
   "execution_count": 214,
   "metadata": {},
   "outputs": [],
   "source": [
    "norway2 = not18(norway1)\n",
    "denmark2= not18(denmark1)\n",
    "iceland2 = not18(iceland1)\n",
    "switzerland2= not18(switzerland1)\n",
    "finland2 = not18(finland1)\n",
    "netherlands2= not18(netherlands1)\n",
    "canada2 = not18(canada1)\n",
    "newzealand2= not18(newzealand1)\n",
    "sweden2= not18(sweden1)\n",
    "australia2= not18(australia1)\n",
    "costarica2= not18(costarica1)\n",
    "austria2 = not18(austria1)\n",
    "unitedstates2= not18(unitedstates1)\n",
    "ireland2= not18(ireland1)\n",
    "germany2= not18(germany1)\n",
    "belgium2= not18(belgium1)\n",
    "luxembourg2= not18(luxembourg1)\n",
    "unitedkingdom2= not18(unitedkingdom1)\n",
    "chile2= not18(chile1)\n",
    "brazil2= not18(brazil1)\n",
    "czechrepublic2= not18(czechrepublic1)\n",
    "argentina2= not18(argentina1)\n",
    "mexico2= not18(mexico1)\n",
    "singapore2= not18(singapore1)\n",
    "uruguay2= not18(uruguay1)\n",
    "guatemala2= not18(guatemala1)\n",
    "panama2= not18(panama1)\n",
    "france2= not18(france1)\n",
    "spain2= not18(spain1)\n",
    "colombia2= not18(colombia1)\n",
    "slovakia2= not18(slovakia1)\n",
    "malaysia2= not18(malaysia1)\n",
    "ecuador2= not18(ecuador1)\n",
    "elsalvador2= not18(elsalvador1)\n",
    "poland2= not18(poland1)\n",
    "italy2= not18(italy1)\n",
    "japan2= not18(japan1)\n",
    "lithuania2= not18(lithuania1)\n",
    "latvia2= not18(latvia1)\n",
    "bolivia2= not18(bolivia1)\n",
    "peru2= not18(peru1)\n",
    "estonia2= not18(estonia1)\n",
    "turkey2= not18(turkey1)\n",
    "paraguay2= not18(paraguay1)\n",
    "philippines2= not18(philippines1)\n",
    "hungary2= not18(hungary1)\n",
    "indonesia2= not18(indonesia1)\n",
    "dominicanrepublic2= not18(dominicanrepublic1)\n",
    "greece2= not18(greece1)\n",
    "portugal2= not18(portugal1)\n",
    "honduras2= not18(honduras1)\n",
    "taiwan2= not18(taiwan1)"
   ]
  },
  {
   "cell_type": "markdown",
   "metadata": {},
   "source": [
    "### Brief Explanation of Code Above\n",
    "This is using our previous created function to get rid of all observations during 2018, and using our previous subsetted country dataframes of 50 observations per 200 days, and then saving this into a new dataframe with the country's name plus the number two."
   ]
  },
  {
   "cell_type": "markdown",
   "metadata": {},
   "source": [
    "### Limitations\n",
    "1) Given we are dealing with a relatively sample of only 2017, albeit with 50 songs per day, drawing conclusions for what type of music a happy or unhappy country listens may not prove out to be as accurate as we would like it to be. We can say, however, that the culture of a country likely does not vary signficantly from one year to another, so the top genres and happy scores may reflect of the country's values to an extent.\n",
    "\n",
    "2) Some countries were omitted in order to be able to use the countries in the happiness index and those in our spotify data. In order to draw some observations, we had to find overlap in songs. This may naturally produce bias since some potentially happy countries with potentially signficant relationships to music will completely be overlooked due to availability of data. This concerns mainly the overarching/big picture of happy countries and certain genres being more common.\n",
    "\n",
    "3) We are relying on the genre and danceability score for specific songs provided by a dataset. It is possible this dataset contains subjective information to the user, hence the genres and danceability scores may not reflect the names the people of the country would utilize. This metric of genre, further, may be interpreted as..."
   ]
  },
  {
   "cell_type": "code",
   "execution_count": 17,
   "metadata": {},
   "outputs": [],
   "source": [
    "# unique = np.array(norway2['Track Name'].unique())\n",
    "# p = [norway2[norway2['Track Name']==i].loc[:,'Streams'].mean() for i in unique]\n",
    "# plt.plot(unique, p)\n",
    "# plt.xlabel('Track Name')\n",
    "# plt.ylabel('Streams')"
   ]
  },
  {
   "cell_type": "code",
   "execution_count": 18,
   "metadata": {},
   "outputs": [
    {
     "name": "stdout",
     "output_type": "stream",
     "text": [
      "Unnamed: 0\n",
      "Position\n",
      "Track Name\n",
      "Artist\n",
      "Streams\n",
      "URL\n",
      "Date\n",
      "Region\n"
     ]
    }
   ],
   "source": [
    "for x in norway2:\n",
    "    print(x)"
   ]
  },
  {
   "cell_type": "code",
   "execution_count": 190,
   "metadata": {},
   "outputs": [],
   "source": [
    "def change(d):\n",
    "    '''\n",
    "    changes column names to all lower case \n",
    "    '''\n",
    "    new_colnames = [x.lower().replace(' ', '_') for x in d.columns]\n",
    "    r = d.copy()\n",
    "    r.columns= new_colnames \n",
    "    return r"
   ]
  },
  {
   "cell_type": "code",
   "execution_count": 191,
   "metadata": {},
   "outputs": [
    {
     "data": {
      "text/html": [
       "<div>\n",
       "<style scoped>\n",
       "    .dataframe tbody tr th:only-of-type {\n",
       "        vertical-align: middle;\n",
       "    }\n",
       "\n",
       "    .dataframe tbody tr th {\n",
       "        vertical-align: top;\n",
       "    }\n",
       "\n",
       "    .dataframe thead th {\n",
       "        text-align: right;\n",
       "    }\n",
       "</style>\n",
       "<table border=\"1\" class=\"dataframe\">\n",
       "  <thead>\n",
       "    <tr style=\"text-align: right;\">\n",
       "      <th></th>\n",
       "      <th>unnamed:_0</th>\n",
       "      <th>position</th>\n",
       "      <th>track_name</th>\n",
       "      <th>artist</th>\n",
       "      <th>streams</th>\n",
       "      <th>url</th>\n",
       "      <th>date</th>\n",
       "      <th>region</th>\n",
       "    </tr>\n",
       "  </thead>\n",
       "  <tbody>\n",
       "    <tr>\n",
       "      <th>0</th>\n",
       "      <td>296800</td>\n",
       "      <td>1</td>\n",
       "      <td>Alone</td>\n",
       "      <td>Alan Walker</td>\n",
       "      <td>103886</td>\n",
       "      <td>https://open.spotify.com/track/0JiVRyTJcJnmlwC...</td>\n",
       "      <td>2017-01-01</td>\n",
       "      <td>no</td>\n",
       "    </tr>\n",
       "    <tr>\n",
       "      <th>1</th>\n",
       "      <td>296801</td>\n",
       "      <td>2</td>\n",
       "      <td>Rockabye (feat. Sean Paul &amp; Anne-Marie)</td>\n",
       "      <td>Clean Bandit</td>\n",
       "      <td>85990</td>\n",
       "      <td>https://open.spotify.com/track/5knuzwU65gJK7IF...</td>\n",
       "      <td>2017-01-01</td>\n",
       "      <td>no</td>\n",
       "    </tr>\n",
       "    <tr>\n",
       "      <th>2</th>\n",
       "      <td>296802</td>\n",
       "      <td>3</td>\n",
       "      <td>I Don’t Wanna Live Forever (Fifty Shades Darke...</td>\n",
       "      <td>ZAYN</td>\n",
       "      <td>68706</td>\n",
       "      <td>https://open.spotify.com/track/3NdDpSvN911VPGi...</td>\n",
       "      <td>2017-01-01</td>\n",
       "      <td>no</td>\n",
       "    </tr>\n",
       "    <tr>\n",
       "      <th>3</th>\n",
       "      <td>296803</td>\n",
       "      <td>4</td>\n",
       "      <td>Call On Me - Ryan Riback Extended Remix</td>\n",
       "      <td>Starley</td>\n",
       "      <td>60334</td>\n",
       "      <td>https://open.spotify.com/track/78rIJddV4X0HkNA...</td>\n",
       "      <td>2017-01-01</td>\n",
       "      <td>no</td>\n",
       "    </tr>\n",
       "    <tr>\n",
       "      <th>4</th>\n",
       "      <td>296804</td>\n",
       "      <td>5</td>\n",
       "      <td>I Feel It Coming</td>\n",
       "      <td>The Weeknd</td>\n",
       "      <td>56607</td>\n",
       "      <td>https://open.spotify.com/track/5GXAXm5YOmYT0kL...</td>\n",
       "      <td>2017-01-01</td>\n",
       "      <td>no</td>\n",
       "    </tr>\n",
       "  </tbody>\n",
       "</table>\n",
       "</div>"
      ],
      "text/plain": [
       "   unnamed:_0  position                                         track_name  \\\n",
       "0      296800         1                                              Alone   \n",
       "1      296801         2            Rockabye (feat. Sean Paul & Anne-Marie)   \n",
       "2      296802         3  I Don’t Wanna Live Forever (Fifty Shades Darke...   \n",
       "3      296803         4            Call On Me - Ryan Riback Extended Remix   \n",
       "4      296804         5                                   I Feel It Coming   \n",
       "\n",
       "         artist  streams                                                url  \\\n",
       "0   Alan Walker   103886  https://open.spotify.com/track/0JiVRyTJcJnmlwC...   \n",
       "1  Clean Bandit    85990  https://open.spotify.com/track/5knuzwU65gJK7IF...   \n",
       "2          ZAYN    68706  https://open.spotify.com/track/3NdDpSvN911VPGi...   \n",
       "3       Starley    60334  https://open.spotify.com/track/78rIJddV4X0HkNA...   \n",
       "4    The Weeknd    56607  https://open.spotify.com/track/5GXAXm5YOmYT0kL...   \n",
       "\n",
       "        date region  \n",
       "0 2017-01-01     no  \n",
       "1 2017-01-01     no  \n",
       "2 2017-01-01     no  \n",
       "3 2017-01-01     no  \n",
       "4 2017-01-01     no  "
      ]
     },
     "execution_count": 191,
     "metadata": {},
     "output_type": "execute_result"
    }
   ],
   "source": [
    "newnorway=change(norway2)\n",
    "newnorway.head()"
   ]
  },
  {
   "cell_type": "code",
   "execution_count": 192,
   "metadata": {},
   "outputs": [],
   "source": [
    "norway3 = change(norway2)\n",
    "denmark3= change(denmark2)\n",
    "iceland3 = change(iceland2)\n",
    "switzerland3= change(switzerland2)\n",
    "finland3 = change(finland2)\n",
    "netherlands3= change(netherlands2)\n",
    "canada3 = change(canada2)\n",
    "newzealand3= change(newzealand2)\n",
    "sweden3= change(sweden2)\n",
    "australia3= change(australia2)\n",
    "costarica3= change(costarica2)\n",
    "austria3 = change(austria2)\n",
    "unitedstates3= change(unitedstates2)\n",
    "ireland3= change(ireland2)\n",
    "germany3= change(germany2)\n",
    "belgium3= change(belgium2)\n",
    "luxembourg3= change(luxembourg2)\n",
    "unitedkingdom3= change(unitedkingdom2)\n",
    "chile3= change(chile2)\n",
    "brazil3= change(brazil2)\n",
    "czechrepublic3= change(czechrepublic2)\n",
    "argentina3= change(argentina2)\n",
    "mexico3= change(mexico2)\n",
    "singapore3= change(singapore2)\n",
    "uruguay3= change(uruguay2)\n",
    "guatemala3= change(guatemala2)\n",
    "panama3= change(panama2)\n",
    "france3= change(france2)\n",
    "spain3= change(spain2)\n",
    "colombia3= change(colombia2)\n",
    "slovakia3= change(slovakia2)\n",
    "malaysia3= change(malaysia2)\n",
    "ecuador3= change(ecuador2)\n",
    "elsalvador3= change(elsalvador2)\n",
    "poland3= change(poland2)\n",
    "italy3= change(italy2)\n",
    "japan3= change(japan2)\n",
    "lithuania3= change(lithuania2)\n",
    "latvia3= change(latvia2)\n",
    "bolivia3= change(bolivia2)\n",
    "peru3= change(peru2)\n",
    "estonia3= change(estonia2)\n",
    "turkey3= change(turkey2)\n",
    "paraguay3= change(paraguay2)\n",
    "philippines3= change(philippines2)\n",
    "hungary3= change(hungary2)\n",
    "indonesia3= change(indonesia2)\n",
    "dominicanrepublic3= change(dominicanrepublic2)\n",
    "greece3= change(greece2)\n",
    "portugal3= change(portugal2)\n",
    "honduras3= change(honduras2)\n",
    "taiwan3= change(taiwan2)"
   ]
  },
  {
   "cell_type": "code",
   "execution_count": 2,
   "metadata": {},
   "outputs": [
    {
     "ename": "NameError",
     "evalue": "name 'pd' is not defined",
     "output_type": "error",
     "traceback": [
      "\u001b[0;31m---------------------------------------------------------------------------\u001b[0m",
      "\u001b[0;31mNameError\u001b[0m                                 Traceback (most recent call last)",
      "\u001b[0;32m<ipython-input-2-8b949fc33bf5>\u001b[0m in \u001b[0;36m<module>\u001b[0;34m\u001b[0m\n\u001b[0;32m----> 1\u001b[0;31m \u001b[0mprint\u001b[0m\u001b[0;34m(\u001b[0m\u001b[0mpd\u001b[0m\u001b[0;34m.\u001b[0m\u001b[0misnull\u001b[0m\u001b[0;34m(\u001b[0m\u001b[0miceland3\u001b[0m\u001b[0;34m)\u001b[0m\u001b[0;34m)\u001b[0m\u001b[0;34m\u001b[0m\u001b[0;34m\u001b[0m\u001b[0m\n\u001b[0m",
      "\u001b[0;31mNameError\u001b[0m: name 'pd' is not defined"
     ]
    }
   ],
   "source": [
    "print(pd.isnull(iceland3))"
   ]
  },
  {
   "cell_type": "code",
   "execution_count": 3,
   "metadata": {},
   "outputs": [],
   "source": [
    "def clear(d):\n",
    "    '''\n",
    "    removes null or nan values \n",
    "    '''\n",
    "    d.dropna(inplace=True)\n",
    "    return d"
   ]
  },
  {
   "cell_type": "code",
   "execution_count": 213,
   "metadata": {},
   "outputs": [],
   "source": [
    "ice4 = clear(iceland3)"
   ]
  },
  {
   "cell_type": "code",
   "execution_count": 223,
   "metadata": {},
   "outputs": [],
   "source": [
    "\n"
   ]
  },
  {
   "cell_type": "code",
   "execution_count": 224,
   "metadata": {},
   "outputs": [
    {
     "data": {
      "text/plain": [
       "Text(0, 0.5, 'price')"
      ]
     },
     "execution_count": 224,
     "metadata": {},
     "output_type": "execute_result"
    },
    {
     "data": {
      "image/png": "[encoded data removed]",
      "text/plain": [
       "<Figure size 432x288 with 1 Axes>"
      ]
     },
     "metadata": {
      "needs_background": "light"
     },
     "output_type": "display_data"
    }
   ],
   "source": [
    "unique = np.array(iceland3['track_name'].unique())\n",
    "p = [iceland3[iceland3['track_name']==i].loc[:,'streams'].mean() for i in unique]\n",
    "plt.plot(unique, p)\n",
    "plt.xlabel('publication years')\n",
    "plt.ylabel('price')"
   ]
  },
  {
   "cell_type": "code",
   "execution_count": null,
   "metadata": {},
   "outputs": [],
   "source": []
  }
 ],
 "metadata": {
  "kernelspec": {
   "display_name": "Python 3",
   "language": "python",
   "name": "python3"
  },
  "language_info": {
   "codemirror_mode": {
    "name": "ipython",
    "version": 3
   },
   "file_extension": ".py",
   "mimetype": "text/x-python",
   "name": "python",
   "nbconvert_exporter": "python",
   "pygments_lexer": "ipython3",
   "version": "3.7.6"
  }
 },
 "nbformat": 4,
 "nbformat_minor": 4
}
