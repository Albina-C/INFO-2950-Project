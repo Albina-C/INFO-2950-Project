{
 "cells": [
  {
   "cell_type": "markdown",
   "metadata": {},
   "source": [
    "The two analyses that we have chosen to perform in our final project are:\n",
    "    \n",
    "    (1) What is the relationship between the happiness score of a country and the average danceability score of its top songs over two-week periods for a year?\n",
    "    \n",
    "    (2) What is the relationship between the happiness score of a country and the average valence score of its top songs over two-week periods for a year?"
   ]
  },
  {
   "cell_type": "markdown",
   "metadata": {},
   "source": [
    "### Analysis #1 Does the danceability of a song have any correlation with the happiness score of a country?\n",
    "\n",
    "For our first analysis, we will be performing the rolling average of two weeks (14 days) for our data frame. In sum, this rolling average will take the average danceability score over 14 days by collecting the 50 songs for this period for the top happiest and bottom happiest countries. In particular, we believe there may be a relationship between those countries that score high in the happiness rank and those countries with songs that have high danceability scores. Danceability is often correlated with happiness, hence we believe the top ten [happiest] countries may exhibit particularly high danceability scores. The goal of our project is to understand whether there is any meaningful relationship between happy countries and the music they listen to. As a result, performing a rolling average of the danceability scores of the top happiest and least happy countries will allow us to observe one dimension of happiness from the lenses of danceability. As stated, we expect to see the top happiest countries (e.g., Norway and Iceland) to have high danceability rolling average scores compared to the least happiest countries (e.g., Honduras and Portugal). "
   ]
  },
  {
   "cell_type": "markdown",
   "metadata": {},
   "source": [
    "### Analysis #2: Can we predict the happiness ranking of a country based on Spotify-provided happiness scores (“valence”) ?\n",
    "\n",
    "For every song, the Spotify API provides its own “happiness” score, called “valence.” The higher the valence score, the more positive mood for the song. Using these provided happiness scores, we want to compare the valence for popular songs in sad countries and popular songs in happy countries. If happy countries do have higher valence scores than sad ones, we may find a relevant connection between happiness ranks and the valence scores. If sad countries have higher valence scores than happy countries, we may still be able to find a connection between the variables and presume that sad countries may want to listen to happier songs. Even if there is no significant difference between the valence scores between happy and sad countries, we can still analyze the results and conduct more outside research as to why there is no correlation. This may be related to other Spotify-provided scores, such as “danceability”. Some countries, perhaps hispanic ones, may have dance built into their cultures even though the happiness scores are variable. All in all, we may find that Spotify’s valence score does not actually accurately indicate happiness.\n"
   ]
  },
  {
   "cell_type": "markdown",
   "metadata": {},
   "source": [
    "Questions for reviewers:\n",
    "- Do you have any other suggested methods for comparing happiness scores with danceability and valence scores?\n",
    "- Do you think that looking at the relationship between happiness scores and danceability and valence is enough for the scale of this project? Or should we look at more traits?\n",
    "- We started making graphs to show the relationship between happiness and danceability, but the graphs did not show any clear relationship between the two variables. What if we find that there is no relationship between happiness score and a country’s top songs? \n",
    "- Should we also be pulling in outside research into our final report? For example, if we find that one country that has a high happiness score and also an unusually high danceability score, and we find some connection between dance and a country’s culture, are we expected to be doing this kind of research?\n"
   ]
  }
 ],
 "metadata": {
  "kernelspec": {
   "display_name": "Python 3",
   "language": "python",
   "name": "python3"
  },
  "language_info": {
   "codemirror_mode": {
    "name": "ipython",
    "version": 3
   },
   "file_extension": ".py",
   "mimetype": "text/x-python",
   "name": "python",
   "nbconvert_exporter": "python",
   "pygments_lexer": "ipython3",
   "version": "3.7.6"
  }
 },
 "nbformat": 4,
 "nbformat_minor": 4
}
